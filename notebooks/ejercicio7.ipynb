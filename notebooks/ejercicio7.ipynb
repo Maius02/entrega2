{
 "cells": [
  {
   "cell_type": "code",
   "execution_count": 14,
   "id": "b233f43d",
   "metadata": {},
   "outputs": [],
   "source": [
    "import sys\n",
    "import os\n",
    "\n",
    "# Obtener la ruta absoluta del directorio raiz del proyecto\n",
    "#sys.path.append(os.path.abspath(\"../src\"))\n",
    "\n",
    "# Agregamos la carpeta padre del proyecto (donde está \"src\") al path\n",
    "sys.path.append(os.path.abspath(\"..\"))"
   ]
  },
  {
   "cell_type": "code",
   "execution_count": 19,
   "id": "ffa2aaa9",
   "metadata": {},
   "outputs": [
    {
     "name": "stdout",
     "output_type": "stream",
     "text": [
      "El nombre es muy largo.\n"
     ]
    }
   ],
   "source": [
    "#from functions import generar_codigo_descuento\n",
    "from src import generar_codigo_descuento\n",
    "\n",
    "nombre = input(\"Ingrese su nombre (max 15 caractéres): \").strip()\n",
    "\n",
    "if len(nombre) > 15:\n",
    "    print(\"El nombre es muy largo.\")\n",
    "else:\n",
    "    fecha = input(\"Ingrese la fecha en formato 'YYYYMMDD'\").strip()\n",
    "    if len(fecha) != 8 or not fecha.isdigit():\n",
    "        print(\"La fecha que ingresaste es inválida.\")\n",
    "    else:\n",
    "        codigo = generar_codigo_descuento(nombre,fecha)\n",
    "        print(f'Código de descuento: {codigo}')"
   ]
  }
 ],
 "metadata": {
  "kernelspec": {
   "display_name": "venv",
   "language": "python",
   "name": "python3"
  },
  "language_info": {
   "codemirror_mode": {
    "name": "ipython",
    "version": 3
   },
   "file_extension": ".py",
   "mimetype": "text/x-python",
   "name": "python",
   "nbconvert_exporter": "python",
   "pygments_lexer": "ipython3",
   "version": "3.12.9"
  }
 },
 "nbformat": 4,
 "nbformat_minor": 5
}

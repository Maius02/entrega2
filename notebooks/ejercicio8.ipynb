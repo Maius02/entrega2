{
 "cells": [
  {
   "cell_type": "code",
   "execution_count": 13,
   "id": "52813dfc",
   "metadata": {},
   "outputs": [],
   "source": [
    "import sys\n",
    "import os\n",
    "\n",
    "# Agregamos la carpeta padre del proyecto (donde está \"src\") al path\n",
    "sys.path.append(os.path.abspath(\"..\"))"
   ]
  },
  {
   "cell_type": "code",
   "execution_count": 21,
   "id": "145b1d56",
   "metadata": {},
   "outputs": [
    {
     "name": "stdout",
     "output_type": "stream",
     "text": [
      "Entrada inválida.\n"
     ]
    }
   ],
   "source": [
    "#para recargar el modulo\n",
    "from src import modulo1\n",
    "import importlib\n",
    "importlib.reload(modulo1)\n",
    "\n",
    "\n",
    "from src.modulo1 import verificar_cadena, verificar_anagramas\n",
    "\n",
    "palabra1 = input(\"Ingrese una palabra: \").strip()\n",
    "palabra2 = input(\"Ingrese otra palabra:\").strip()\n",
    "\n",
    "if not (verificar_cadena(palabra1) and verificar_cadena(palabra2)):\n",
    "    print(\"Entrada inválida.\")\n",
    "else:\n",
    "    if verificar_anagramas(palabra1,palabra2):\n",
    "        print(\"Son anagrámas\")\n",
    "    else:\n",
    "        print(\"No son anagrámas\")"
   ]
  }
 ],
 "metadata": {
  "kernelspec": {
   "display_name": "venv",
   "language": "python",
   "name": "python3"
  },
  "language_info": {
   "codemirror_mode": {
    "name": "ipython",
    "version": 3
   },
   "file_extension": ".py",
   "mimetype": "text/x-python",
   "name": "python",
   "nbconvert_exporter": "python",
   "pygments_lexer": "ipython3",
   "version": "3.12.9"
  }
 },
 "nbformat": 4,
 "nbformat_minor": 5
}

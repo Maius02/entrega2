{
 "cells": [
  {
   "cell_type": "code",
   "execution_count": null,
   "id": "226e11a6",
   "metadata": {},
   "outputs": [],
   "source": [
    "import sys\n",
    "import os\n",
    "\n",
    "# Obtener la ruta absoluta del directorio raiz del proyecto\n",
    "sys.path.append(os.path.abspath(\"../src\"))"
   ]
  },
  {
   "cell_type": "code",
   "execution_count": null,
   "id": "7dc2f40a",
   "metadata": {},
   "outputs": [],
   "source": [
    "from functions import validar_nombre\n",
    "\n",
    "usuario = input(\"Ingrese un nombre de usuario: \")\n",
    "\n",
    "if validar_nombre(usuario):\n",
    "    print(\"El nombre de usuario es válido.\")\n",
    "else:\n",
    "    print(\"El nombre de usuario no cumple con los requisitos.\")"
   ]
  }
 ],
 "metadata": {
  "language_info": {
   "name": "python"
  }
 },
 "nbformat": 4,
 "nbformat_minor": 5
}

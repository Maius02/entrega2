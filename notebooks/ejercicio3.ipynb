{
 "cells": [
  {
   "cell_type": "code",
   "execution_count": 1,
   "id": "7f91e8a8",
   "metadata": {},
   "outputs": [],
   "source": [
    "import sys\n",
    "import os\n",
    "\n",
    "# Obtener la ruta absoluta del directorio raiz del proyecto\n",
    "sys.path.append(os.path.abspath(\"../src\"))"
   ]
  },
  {
   "cell_type": "code",
   "execution_count": 6,
   "id": "216113a3",
   "metadata": {},
   "outputs": [
    {
     "name": "stdout",
     "output_type": "stream",
     "text": [
      "La clave ingresada no se encuentra en el código de conducta\n"
     ]
    }
   ],
   "source": [
    "from functions import imprimir_reglas\n",
    "\n",
    "rules = \"\"\"Respeta a los demás. No se permiten insultos ni lenguaje ofensivo.\n",
    "    Evita el spam. No publiques enlaces sospechosos o repetitivos.\n",
    "    No compartas información personal.\n",
    "    Usa los canales adecuados para personal cada tema.\n",
    "    Sigue las instrucciones de los moderadores.\"\"\"\n",
    "\n",
    "clave = input(\"Ingrese una clave: \").lower()\n",
    "\n",
    "if clave in rules :\n",
    "    print (imprimir_reglas(rules,clave))\n",
    "else:\n",
    "    print(\"La clave ingresada no se encuentra en el código de conducta\")\n",
    "\n",
    "\n",
    "\n",
    "    "
   ]
  }
 ],
 "metadata": {
  "kernelspec": {
   "display_name": "venv",
   "language": "python",
   "name": "python3"
  },
  "language_info": {
   "codemirror_mode": {
    "name": "ipython",
    "version": 3
   },
   "file_extension": ".py",
   "mimetype": "text/x-python",
   "name": "python",
   "nbconvert_exporter": "python",
   "pygments_lexer": "ipython3",
   "version": "3.12.9"
  }
 },
 "nbformat": 4,
 "nbformat_minor": 5
}

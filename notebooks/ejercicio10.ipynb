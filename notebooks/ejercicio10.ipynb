{
 "cells": [
  {
   "cell_type": "code",
   "execution_count": 31,
   "id": "9349c2db",
   "metadata": {},
   "outputs": [],
   "source": [
    "import sys\n",
    "import os\n",
    "sys.path.append(os.path.abspath(\"../\"))"
   ]
  },
  {
   "cell_type": "code",
   "execution_count": 37,
   "id": "4c17b56a",
   "metadata": {},
   "outputs": [
    {
     "name": "stdout",
     "output_type": "stream",
     "text": [
      "Ranking ronda 1-------------\n",
      "   Shadow: 9 pts\n",
      "   Blaze: 3 pts\n",
      "   Viper: 6 pts\n",
      "   Frost: 0 pts\n",
      "   Reaper: 4 pts\n",
      "Ranking ronda 2-------------\n",
      "   Shadow: 1 pts\n",
      "   Blaze: 8 pts\n",
      "   Viper: 4 pts\n",
      "   Frost: 9 pts\n",
      "   Reaper: 0 pts\n",
      "Ranking ronda 3-------------\n",
      "   Shadow: 3 pts\n",
      "   Blaze: 10 pts\n",
      "   Viper: 5 pts\n",
      "   Frost: 0 pts\n",
      "   Reaper: 4 pts\n",
      "Ranking ronda 4-------------\n",
      "   Shadow: 8 pts\n",
      "   Blaze: 4 pts\n",
      "   Viper: 1 pts\n",
      "   Frost: 5 pts\n",
      "   Reaper: 4 pts\n",
      "Ranking ronda 5-------------\n",
      "   Shadow: 6 pts\n",
      "   Blaze: 0 pts\n",
      "   Viper: 8 pts\n",
      "   Frost: 4 pts\n",
      "   Reaper: 5 pts\n",
      "\n",
      "Ranking final:\n",
      "Jugador  Kills  Asistencias  Muertes  MVPs  Puntos\n",
      "------------------------------\n",
      "Shadow   6,  6,  2,  2  |  27 pts \n",
      "Blaze   6,  3,  3,  1  |  25 pts \n",
      "Viper   5,  6,  3,  1  |  24 pts \n",
      "Frost   4,  5,  2,  1  |  18 pts \n",
      "Reaper   4,  5,  1,  0  |  17 pts \n"
     ]
    }
   ],
   "source": [
    "from src import partidas\n",
    "import importlib\n",
    "importlib.reload(partidas)\n",
    "\n",
    "from src.partidas import procesar_rondas, mostrar_ranking_final\n",
    "\n",
    "rounds = [\n",
    "    {\n",
    "    'Shadow': {'kills': 2, 'assists': 1, 'deaths': True},\n",
    "    'Blaze': {'kills': 1, 'assists': 0, 'deaths': False},\n",
    "    'Viper': {'kills': 1, 'assists': 2, 'deaths': True},\n",
    "    'Frost': {'kills': 0, 'assists': 1, 'deaths': False},\n",
    "    'Reaper': {'kills': 1, 'assists': 1, 'deaths': False}\n",
    "    },\n",
    "    {\n",
    "    'Shadow': {'kills': 0, 'assists': 2, 'deaths': False},\n",
    "    'Blaze': {'kills': 2, 'assists': 0, 'deaths': True},\n",
    "    'Viper': {'kills': 1, 'assists': 1, 'deaths': False},\n",
    "    'Frost': {'kills': 2, 'assists': 1, 'deaths': True},\n",
    "    'Reaper': {'kills': 0, 'assists': 1, 'deaths': False}\n",
    "    },\n",
    "    {\n",
    "    'Shadow': {'kills': 1, 'assists': 0, 'deaths': False},\n",
    "    'Blaze': {'kills': 2, 'assists': 2, 'deaths': True},\n",
    "    'Viper': {'kills': 1, 'assists': 1, 'deaths': True},\n",
    "    'Frost': {'kills': 0, 'assists': 1, 'deaths': False},\n",
    "    'Reaper': {'kills': 1, 'assists': 1, 'deaths': False}\n",
    "    },\n",
    "    {\n",
    "    'Shadow': {'kills': 2, 'assists': 1, 'deaths': False},\n",
    "    'Blaze': {'kills': 1, 'assists': 0, 'deaths': True},\n",
    "    'Viper': {'kills': 0, 'assists': 2, 'deaths': False},\n",
    "    'Frost': {'kills': 1, 'assists': 1, 'deaths': True},\n",
    "    'Reaper': {'kills': 1, 'assists': 1, 'deaths': False}\n",
    "    },\n",
    "    {\n",
    "    'Shadow': {'kills': 1, 'assists': 2, 'deaths': True},\n",
    "    'Blaze': {'kills': 0, 'assists': 1, 'deaths': False},\n",
    "    'Viper': {'kills': 2, 'assists': 0, 'deaths': True},\n",
    "    'Frost': {'kills': 1, 'assists': 1, 'deaths': False},\n",
    "    'Reaper': {'kills': 1, 'assists': 1, 'deaths': True}\n",
    "    }\n",
    "    ]\n",
    "\n",
    "jugadores = procesar_rondas(rounds)\n",
    "\n",
    "mostrar_ranking_final(jugadores)\n"
   ]
  }
 ],
 "metadata": {
  "kernelspec": {
   "display_name": "venv",
   "language": "python",
   "name": "python3"
  },
  "language_info": {
   "codemirror_mode": {
    "name": "ipython",
    "version": 3
   },
   "file_extension": ".py",
   "mimetype": "text/x-python",
   "name": "python",
   "nbconvert_exporter": "python",
   "pygments_lexer": "ipython3",
   "version": "3.12.9"
  }
 },
 "nbformat": 4,
 "nbformat_minor": 5
}

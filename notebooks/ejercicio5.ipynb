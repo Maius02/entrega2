{
 "cells": [
  {
   "cell_type": "code",
   "execution_count": 1,
   "id": "43c4b99e",
   "metadata": {},
   "outputs": [],
   "source": [
    "import sys\n",
    "import os\n",
    "\n",
    "# Obtener la ruta absoluta del directorio raiz del proyecto\n",
    "sys.path.append(os.path.abspath(\"../src\"))"
   ]
  },
  {
   "cell_type": "code",
   "execution_count": 9,
   "id": "934113cb",
   "metadata": {},
   "outputs": [
    {
     "name": "stdout",
     "output_type": "stream",
     "text": [
      "Categoría:  Rápido\n"
     ]
    }
   ],
   "source": [
    "from functions import clasificar_velocidad\n",
    "\n",
    "velocidad = input (\"Ingrese su tiempo de reacción en ms: \")\n",
    "\n",
    "if velocidad.isdigit():\n",
    "    velocidad = int(velocidad)\n",
    "    print(\"Categoría: \", clasificar_velocidad(velocidad))\n",
    "else:\n",
    "    print(\"Entrada inválida\")"
   ]
  }
 ],
 "metadata": {
  "kernelspec": {
   "display_name": "venv",
   "language": "python",
   "name": "python3"
  },
  "language_info": {
   "codemirror_mode": {
    "name": "ipython",
    "version": 3
   },
   "file_extension": ".py",
   "mimetype": "text/x-python",
   "name": "python",
   "nbconvert_exporter": "python",
   "pygments_lexer": "ipython3",
   "version": "3.12.9"
  }
 },
 "nbformat": 4,
 "nbformat_minor": 5
}
